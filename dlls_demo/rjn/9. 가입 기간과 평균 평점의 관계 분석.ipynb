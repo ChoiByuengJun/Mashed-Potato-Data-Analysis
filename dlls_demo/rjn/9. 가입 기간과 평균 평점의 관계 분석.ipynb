{
 "cells": [
  {
   "cell_type": "code",
   "execution_count": 12,
   "id": "898acc38-3f17-433b-b56b-76145ccfeba7",
   "metadata": {},
   "outputs": [
    {
     "name": "stdout",
     "output_type": "stream",
     "text": [
      "데이터프레임의 컬럼 목록: ['CustomerID', '회사명', '업종', '회사 규모', '지역', '가입 일자', '최근 서비스 이용 날짜', '구매 횟수', '총 거래 금액', '이탈 여부', '모델명', '구매 가격', '구매 일자', '평점', '평균 평점', '가입 기간', '평균 거래 주기', '평균 거래 금액']\n"
     ]
    }
   ],
   "source": [
    "import pandas as pd\n",
    "import matplotlib.pyplot as plt\n",
    "from matplotlib import rc\n",
    "import seaborn as sns\n",
    "\n",
    "# 폰트 설정\n",
    "rc('font', family='AppleGothic')\n",
    "plt.rcParams['axes.unicode_minus'] = False\n",
    "\n",
    "# 데이터 로드\n",
    "file_path = 'preprocessed_data.csv'\n",
    "data = pd.read_csv(file_path)\n",
    "\n",
    "# 11. 상위 30명 구매자의 평균 거래 주기와 이탈 여부 분석\n",
    "print(\"데이터프레임의 컬럼 목록:\", data.columns.tolist())\n"
   ]
  },
  {
   "cell_type": "code",
   "execution_count": null,
   "id": "05efccf6-42d3-45a3-b943-4f3c117a67fd",
   "metadata": {},
   "outputs": [],
   "source": []
  }
 ],
 "metadata": {
  "kernelspec": {
   "display_name": "Python [conda env:base] *",
   "language": "python",
   "name": "conda-base-py"
  },
  "language_info": {
   "codemirror_mode": {
    "name": "ipython",
    "version": 3
   },
   "file_extension": ".py",
   "mimetype": "text/x-python",
   "name": "python",
   "nbconvert_exporter": "python",
   "pygments_lexer": "ipython3",
   "version": "3.12.7"
  }
 },
 "nbformat": 4,
 "nbformat_minor": 5
}
